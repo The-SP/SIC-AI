{
 "cells": [
  {
   "cell_type": "markdown",
   "id": "f3fc95e7",
   "metadata": {},
   "source": [
    "# Pandas\n",
    "# Write the codes wherever necessary"
   ]
  },
  {
   "cell_type": "markdown",
   "id": "0f74bbc8",
   "metadata": {},
   "source": [
    "Q1.\tAnswer the following questions using Pandas library. "
   ]
  },
  {
   "cell_type": "code",
   "execution_count": 1,
   "id": "52ca969a",
   "metadata": {},
   "outputs": [
    {
     "data": {
      "text/html": [
       "<div>\n",
       "<style scoped>\n",
       "    .dataframe tbody tr th:only-of-type {\n",
       "        vertical-align: middle;\n",
       "    }\n",
       "\n",
       "    .dataframe tbody tr th {\n",
       "        vertical-align: top;\n",
       "    }\n",
       "\n",
       "    .dataframe thead th {\n",
       "        text-align: right;\n",
       "    }\n",
       "</style>\n",
       "<table border=\"1\" class=\"dataframe\">\n",
       "  <thead>\n",
       "    <tr style=\"text-align: right;\">\n",
       "      <th></th>\n",
       "      <th>Name</th>\n",
       "      <th>Gender</th>\n",
       "      <th>Age</th>\n",
       "      <th>Grade</th>\n",
       "      <th>Absence</th>\n",
       "      <th>Bloodtype</th>\n",
       "      <th>Height</th>\n",
       "      <th>Weight</th>\n",
       "    </tr>\n",
       "  </thead>\n",
       "  <tbody>\n",
       "    <tr>\n",
       "      <th>0</th>\n",
       "      <td>Jared Diamond</td>\n",
       "      <td>M</td>\n",
       "      <td>23</td>\n",
       "      <td>3</td>\n",
       "      <td>Y</td>\n",
       "      <td>O</td>\n",
       "      <td>165.3</td>\n",
       "      <td>68.2</td>\n",
       "    </tr>\n",
       "    <tr>\n",
       "      <th>1</th>\n",
       "      <td>Sarah O'Donnel</td>\n",
       "      <td>F</td>\n",
       "      <td>22</td>\n",
       "      <td>2</td>\n",
       "      <td>N</td>\n",
       "      <td>AB</td>\n",
       "      <td>170.1</td>\n",
       "      <td>53.0</td>\n",
       "    </tr>\n",
       "    <tr>\n",
       "      <th>2</th>\n",
       "      <td>Brian Martin</td>\n",
       "      <td>M</td>\n",
       "      <td>24</td>\n",
       "      <td>4</td>\n",
       "      <td>N</td>\n",
       "      <td>B</td>\n",
       "      <td>175.0</td>\n",
       "      <td>80.1</td>\n",
       "    </tr>\n",
       "    <tr>\n",
       "      <th>3</th>\n",
       "      <td>David Hassel</td>\n",
       "      <td>M</td>\n",
       "      <td>23</td>\n",
       "      <td>3</td>\n",
       "      <td>N</td>\n",
       "      <td>AB</td>\n",
       "      <td>182.1</td>\n",
       "      <td>85.7</td>\n",
       "    </tr>\n",
       "    <tr>\n",
       "      <th>4</th>\n",
       "      <td>Clara Rodriquez</td>\n",
       "      <td>F</td>\n",
       "      <td>20</td>\n",
       "      <td>1</td>\n",
       "      <td>Y</td>\n",
       "      <td>A</td>\n",
       "      <td>168.0</td>\n",
       "      <td>49.5</td>\n",
       "    </tr>\n",
       "  </tbody>\n",
       "</table>\n",
       "</div>"
      ],
      "text/plain": [
       "              Name Gender  Age  Grade Absence Bloodtype  Height  Weight\n",
       "0    Jared Diamond      M   23      3       Y         O   165.3    68.2\n",
       "1   Sarah O'Donnel      F   22      2       N        AB   170.1    53.0\n",
       "2     Brian Martin      M   24      4       N         B   175.0    80.1\n",
       "3     David Hassel      M   23      3       N        AB   182.1    85.7\n",
       "4  Clara Rodriquez      F   20      1       Y         A   168.0    49.5"
      ]
     },
     "execution_count": 1,
     "metadata": {},
     "output_type": "execute_result"
    }
   ],
   "source": [
    "import pandas as pd\n",
    "import os\n",
    "\n",
    "#Read in the data.\n",
    "# Go to the directory where the data file is located. \n",
    "# os.chdir(r'~~')                # Please, replace the path with your own.\n",
    "df = pd.read_csv('data_studentlist.csv', header='infer')\n",
    "df.head(5)\n"
   ]
  },
  {
   "cell_type": "raw",
   "id": "e90d28eb",
   "metadata": {},
   "source": [
    "1) Average height of the male students:\n",
    "2) Average height of the female students:\n",
    "3) Average weight of the male students:\n",
    "4) Average weight of the female students:\n",
    "5) The tallest height among the male students:\n",
    "6) The shortest height among the female students:\n",
    "7) The lightest weight among the male students of height taller than 175cm:\n",
    "8) The heaviest weight among the female students of height shorter than 160cm:\n",
    "9) The average grade of students without absence ('N'):\n",
    "10) The average grade of students with absence ('Y'):\n",
    "11) Average height of the students with blood type 'A' or 'AB':\t\n",
    "12) Average height of the male students with blood type 'A' or 'AB':\n",
    "13) Average age of the students with absence ('Y') whose grade is equal or larger than 3:\n"
   ]
  },
  {
   "cell_type": "markdown",
   "id": "8a76a663",
   "metadata": {},
   "source": [
    "1) Average height of the male students:"
   ]
  },
  {
   "cell_type": "code",
   "execution_count": 2,
   "id": "247f30ab",
   "metadata": {},
   "outputs": [
    {
     "data": {
      "text/plain": [
       "172.41000000000003"
      ]
     },
     "execution_count": 2,
     "metadata": {},
     "output_type": "execute_result"
    }
   ],
   "source": [
    "df[df.Gender == 'M'].Height.mean()"
   ]
  },
  {
   "cell_type": "markdown",
   "id": "244d8789",
   "metadata": {},
   "source": [
    "2) Average height of the female students:"
   ]
  },
  {
   "cell_type": "code",
   "execution_count": 3,
   "id": "47f4c3ac",
   "metadata": {},
   "outputs": [
    {
     "data": {
      "text/plain": [
       "166.64285714285714"
      ]
     },
     "execution_count": 3,
     "metadata": {},
     "output_type": "execute_result"
    }
   ],
   "source": [
    "df[df.Gender == 'F'].Height.mean()"
   ]
  },
  {
   "cell_type": "markdown",
   "id": "520645ec",
   "metadata": {},
   "source": [
    "3) Average weight of the male students:"
   ]
  },
  {
   "cell_type": "code",
   "execution_count": 4,
   "id": "9b2e3fd8",
   "metadata": {},
   "outputs": [
    {
     "data": {
      "text/plain": [
       "68.50000000000001"
      ]
     },
     "execution_count": 4,
     "metadata": {},
     "output_type": "execute_result"
    }
   ],
   "source": [
    "df[df.Gender == 'M'].Weight.mean()"
   ]
  },
  {
   "cell_type": "markdown",
   "id": "bce2e28f",
   "metadata": {},
   "source": [
    "4) Average weight of the female students:"
   ]
  },
  {
   "cell_type": "code",
   "execution_count": 5,
   "id": "a4554c52",
   "metadata": {},
   "outputs": [
    {
     "data": {
      "text/plain": [
       "50.44285714285714"
      ]
     },
     "execution_count": 5,
     "metadata": {},
     "output_type": "execute_result"
    }
   ],
   "source": [
    "df[df.Gender == 'F'].Weight.mean()"
   ]
  },
  {
   "cell_type": "markdown",
   "id": "4ae8e791",
   "metadata": {},
   "source": [
    "5) The tallest height among the male students:"
   ]
  },
  {
   "cell_type": "code",
   "execution_count": 6,
   "id": "b70d5edc",
   "metadata": {},
   "outputs": [
    {
     "data": {
      "text/plain": [
       "182.1"
      ]
     },
     "execution_count": 6,
     "metadata": {},
     "output_type": "execute_result"
    }
   ],
   "source": [
    "df[df.Gender == 'M'].Height.max()"
   ]
  },
  {
   "cell_type": "markdown",
   "id": "5ee9de89",
   "metadata": {},
   "source": [
    "6) The shortest height among the female students:"
   ]
  },
  {
   "cell_type": "code",
   "execution_count": 7,
   "id": "d9ac1b85",
   "metadata": {},
   "outputs": [
    {
     "data": {
      "text/plain": [
       "155.2"
      ]
     },
     "execution_count": 7,
     "metadata": {},
     "output_type": "execute_result"
    }
   ],
   "source": [
    "df[df.Gender == 'F'].Height.min()"
   ]
  },
  {
   "cell_type": "markdown",
   "id": "e515c6c3",
   "metadata": {},
   "source": [
    "7) The lightest weight among the male students of height taller than 175cm:"
   ]
  },
  {
   "cell_type": "code",
   "execution_count": 8,
   "id": "db12d05d",
   "metadata": {},
   "outputs": [
    {
     "data": {
      "text/plain": [
       "61.3"
      ]
     },
     "execution_count": 8,
     "metadata": {},
     "output_type": "execute_result"
    }
   ],
   "source": [
    "df[(df.Gender == 'M') & (df.Height > 175)].Weight.min()"
   ]
  },
  {
   "cell_type": "markdown",
   "id": "858f0690",
   "metadata": {},
   "source": [
    "8) The heaviest weight among the female students of height shorter than 160cm:"
   ]
  },
  {
   "cell_type": "code",
   "execution_count": 9,
   "id": "86ecf15e",
   "metadata": {},
   "outputs": [
    {
     "data": {
      "text/plain": [
       "45.3"
      ]
     },
     "execution_count": 9,
     "metadata": {},
     "output_type": "execute_result"
    }
   ],
   "source": [
    "df[(df.Gender == 'F') & (df.Height < 160)].Weight.max()"
   ]
  },
  {
   "cell_type": "markdown",
   "id": "66a2e9c6",
   "metadata": {},
   "source": [
    "9) The average grade of students without absence ('N'):"
   ]
  },
  {
   "cell_type": "code",
   "execution_count": 10,
   "id": "a8cf5129",
   "metadata": {},
   "outputs": [
    {
     "data": {
      "text/plain": [
       "2.076923076923077"
      ]
     },
     "execution_count": 10,
     "metadata": {},
     "output_type": "execute_result"
    }
   ],
   "source": [
    "df[df.Absence == 'N'].Grade.mean()"
   ]
  },
  {
   "cell_type": "markdown",
   "id": "b5638876",
   "metadata": {},
   "source": [
    "10) The average grade of students with absence ('Y'):"
   ]
  },
  {
   "cell_type": "code",
   "execution_count": 11,
   "id": "7310b9c7",
   "metadata": {},
   "outputs": [
    {
     "data": {
      "text/plain": [
       "3.0"
      ]
     },
     "execution_count": 11,
     "metadata": {},
     "output_type": "execute_result"
    }
   ],
   "source": [
    "df[df.Absence == 'Y'].Grade.mean()"
   ]
  },
  {
   "cell_type": "markdown",
   "id": "b964c474",
   "metadata": {},
   "source": [
    "11) Average height of the students with blood type 'A' or 'AB':"
   ]
  },
  {
   "cell_type": "code",
   "execution_count": 12,
   "id": "cf486c9b",
   "metadata": {},
   "outputs": [
    {
     "data": {
      "text/plain": [
       "172.64285714285714"
      ]
     },
     "execution_count": 12,
     "metadata": {},
     "output_type": "execute_result"
    }
   ],
   "source": [
    "df[(df.Bloodtype == 'A') | (df.Bloodtype == 'AB')].Height.mean()"
   ]
  },
  {
   "cell_type": "markdown",
   "id": "8d421ac3",
   "metadata": {},
   "source": [
    "12) Average height of the male students with blood type 'A' or 'AB':"
   ]
  },
  {
   "cell_type": "code",
   "execution_count": 13,
   "id": "07ef6e85",
   "metadata": {},
   "outputs": [
    {
     "data": {
      "text/plain": [
       "173.375"
      ]
     },
     "execution_count": 13,
     "metadata": {},
     "output_type": "execute_result"
    }
   ],
   "source": [
    "df[(df.Gender == 'M') & ((df.Bloodtype == 'A') | (df.Bloodtype == 'AB'))].Height.mean()"
   ]
  },
  {
   "cell_type": "markdown",
   "id": "7a565d48",
   "metadata": {},
   "source": [
    "13) Average age of the students with absence ('Y') whose grade is equal or larger than 3:"
   ]
  },
  {
   "cell_type": "code",
   "execution_count": 14,
   "id": "030f84e8",
   "metadata": {},
   "outputs": [
    {
     "data": {
      "text/plain": [
       "23.666666666666668"
      ]
     },
     "execution_count": 14,
     "metadata": {},
     "output_type": "execute_result"
    }
   ],
   "source": [
    "df[(df.Absence == 'Y') & (df.Grade >= 3)].Age.mean()"
   ]
  },
  {
   "cell_type": "markdown",
   "id": "4de9af86",
   "metadata": {},
   "source": [
    "Q2.\tAnswer the following questions using Pandas library."
   ]
  },
  {
   "cell_type": "code",
   "execution_count": 15,
   "id": "cad95def",
   "metadata": {},
   "outputs": [
    {
     "data": {
      "text/html": [
       "<div>\n",
       "<style scoped>\n",
       "    .dataframe tbody tr th:only-of-type {\n",
       "        vertical-align: middle;\n",
       "    }\n",
       "\n",
       "    .dataframe tbody tr th {\n",
       "        vertical-align: top;\n",
       "    }\n",
       "\n",
       "    .dataframe thead th {\n",
       "        text-align: right;\n",
       "    }\n",
       "</style>\n",
       "<table border=\"1\" class=\"dataframe\">\n",
       "  <thead>\n",
       "    <tr style=\"text-align: right;\">\n",
       "      <th></th>\n",
       "      <th>Province Code</th>\n",
       "      <th>City Code</th>\n",
       "      <th>Population</th>\n",
       "      <th>Households</th>\n",
       "      <th>Person's Household</th>\n",
       "      <th>Gender Ratio</th>\n",
       "    </tr>\n",
       "  </thead>\n",
       "  <tbody>\n",
       "    <tr>\n",
       "      <th>0</th>\n",
       "      <td>109</td>\n",
       "      <td>1001</td>\n",
       "      <td>10,078,850</td>\n",
       "      <td>4,197,478</td>\n",
       "      <td>2.40</td>\n",
       "      <td>0.97</td>\n",
       "    </tr>\n",
       "    <tr>\n",
       "      <th>1</th>\n",
       "      <td>109</td>\n",
       "      <td>1188</td>\n",
       "      <td>155,695</td>\n",
       "      <td>72,882</td>\n",
       "      <td>2.14</td>\n",
       "      <td>0.98</td>\n",
       "    </tr>\n",
       "    <tr>\n",
       "      <th>2</th>\n",
       "      <td>109</td>\n",
       "      <td>1189</td>\n",
       "      <td>126,817</td>\n",
       "      <td>59,614</td>\n",
       "      <td>2.13</td>\n",
       "      <td>1.00</td>\n",
       "    </tr>\n",
       "    <tr>\n",
       "      <th>3</th>\n",
       "      <td>109</td>\n",
       "      <td>1158</td>\n",
       "      <td>235,186</td>\n",
       "      <td>108,138</td>\n",
       "      <td>2.17</td>\n",
       "      <td>0.94</td>\n",
       "    </tr>\n",
       "    <tr>\n",
       "      <th>4</th>\n",
       "      <td>109</td>\n",
       "      <td>1105</td>\n",
       "      <td>298,145</td>\n",
       "      <td>126,915</td>\n",
       "      <td>2.35</td>\n",
       "      <td>0.99</td>\n",
       "    </tr>\n",
       "    <tr>\n",
       "      <th>5</th>\n",
       "      <td>109</td>\n",
       "      <td>1032</td>\n",
       "      <td>362,197</td>\n",
       "      <td>158,769</td>\n",
       "      <td>2.28</td>\n",
       "      <td>0.97</td>\n",
       "    </tr>\n",
       "    <tr>\n",
       "      <th>6</th>\n",
       "      <td>109</td>\n",
       "      <td>1065</td>\n",
       "      <td>362,604</td>\n",
       "      <td>160,110</td>\n",
       "      <td>2.26</td>\n",
       "      <td>1.01</td>\n",
       "    </tr>\n",
       "    <tr>\n",
       "      <th>7</th>\n",
       "      <td>109</td>\n",
       "      <td>1190</td>\n",
       "      <td>417,976</td>\n",
       "      <td>177,077</td>\n",
       "      <td>2.36</td>\n",
       "      <td>1.00</td>\n",
       "    </tr>\n",
       "    <tr>\n",
       "      <th>8</th>\n",
       "      <td>109</td>\n",
       "      <td>1106</td>\n",
       "      <td>464,176</td>\n",
       "      <td>192,670</td>\n",
       "      <td>2.41</td>\n",
       "      <td>0.96</td>\n",
       "    </tr>\n",
       "    <tr>\n",
       "      <th>9</th>\n",
       "      <td>109</td>\n",
       "      <td>1006</td>\n",
       "      <td>333,523</td>\n",
       "      <td>141,325</td>\n",
       "      <td>2.36</td>\n",
       "      <td>0.97</td>\n",
       "    </tr>\n",
       "  </tbody>\n",
       "</table>\n",
       "</div>"
      ],
      "text/plain": [
       "   Province Code  City Code    Population   Households  Person's Household   \n",
       "0            109       1001   10,078,850    4,197,478                 2.40  \\\n",
       "1            109       1188      155,695       72,882                 2.14   \n",
       "2            109       1189      126,817       59,614                 2.13   \n",
       "3            109       1158      235,186      108,138                 2.17   \n",
       "4            109       1105      298,145      126,915                 2.35   \n",
       "5            109       1032      362,197      158,769                 2.28   \n",
       "6            109       1065      362,604      160,110                 2.26   \n",
       "7            109       1190      417,976      177,077                 2.36   \n",
       "8            109       1106      464,176      192,670                 2.41   \n",
       "9            109       1006      333,523      141,325                 2.36   \n",
       "\n",
       "   Gender Ratio  \n",
       "0          0.97  \n",
       "1          0.98  \n",
       "2          1.00  \n",
       "3          0.94  \n",
       "4          0.99  \n",
       "5          0.97  \n",
       "6          1.01  \n",
       "7          1.00  \n",
       "8          0.96  \n",
       "9          0.97  "
      ]
     },
     "execution_count": 15,
     "metadata": {},
     "output_type": "execute_result"
    }
   ],
   "source": [
    "import pandas as pd\n",
    "import numpy as np\n",
    "import os\n",
    "\n",
    "#Read in the data.\n",
    "# Go to the directory where the data file is located. \n",
    "# os.chdir(r'~~')                # Please, replace the path with your own.\n",
    "df = pd.read_csv('data_census.csv', header='infer')\n",
    "df.shape\n",
    "df.head(10) \n"
   ]
  },
  {
   "cell_type": "raw",
   "id": "b795293f",
   "metadata": {},
   "source": [
    "1)\tTotal population of ProvinceCode equal to 115 and 116:\n",
    "2)\tAverage population of the cities where there are more males\n",
    "3)\tPlaces with more males (GenderRatio >1) and less than 2 persons per household:\n",
    "4)\tSort the DataFrame in ascending order of the 'Households'. Show the top 10.\n"
   ]
  },
  {
   "cell_type": "markdown",
   "id": "d9dde5f8",
   "metadata": {},
   "source": [
    "1)\tTotal population of ProvinceCode equal to 115 and 116:"
   ]
  },
  {
   "cell_type": "code",
   "execution_count": 16,
   "id": "d5cbac32",
   "metadata": {},
   "outputs": [],
   "source": [
    "df['Population'] = df['Population'].apply(lambda x: int(x.replace(',', '')))"
   ]
  },
  {
   "cell_type": "code",
   "execution_count": 17,
   "id": "be47be22",
   "metadata": {},
   "outputs": [
    {
     "data": {
      "text/plain": [
       "5970327"
      ]
     },
     "execution_count": 17,
     "metadata": {},
     "output_type": "execute_result"
    }
   ],
   "source": [
    "df[(df['Province Code'] == 115) | (df['Province Code'] == 116)].Population.sum()"
   ]
  },
  {
   "cell_type": "markdown",
   "id": "b2d63197",
   "metadata": {},
   "source": [
    "2)\tAverage population of the cities where there are more males"
   ]
  },
  {
   "cell_type": "code",
   "execution_count": 18,
   "id": "6779e461",
   "metadata": {},
   "outputs": [
    {
     "data": {
      "text/plain": [
       "419221.2076923077"
      ]
     },
     "execution_count": 18,
     "metadata": {},
     "output_type": "execute_result"
    }
   ],
   "source": [
    "df[df['Gender Ratio'] > 1].Population.mean()"
   ]
  },
  {
   "cell_type": "markdown",
   "id": "134a1b34",
   "metadata": {},
   "source": [
    "3)\tPlaces with more males (GenderRatio >1) and less than 2 persons per household:"
   ]
  },
  {
   "cell_type": "code",
   "execution_count": 19,
   "id": "15e73280",
   "metadata": {
    "scrolled": true
   },
   "outputs": [
    {
     "data": {
      "text/html": [
       "<div>\n",
       "<style scoped>\n",
       "    .dataframe tbody tr th:only-of-type {\n",
       "        vertical-align: middle;\n",
       "    }\n",
       "\n",
       "    .dataframe tbody tr th {\n",
       "        vertical-align: top;\n",
       "    }\n",
       "\n",
       "    .dataframe thead th {\n",
       "        text-align: right;\n",
       "    }\n",
       "</style>\n",
       "<table border=\"1\" class=\"dataframe\">\n",
       "  <thead>\n",
       "    <tr style=\"text-align: right;\">\n",
       "      <th></th>\n",
       "      <th>Province Code</th>\n",
       "      <th>City Code</th>\n",
       "      <th>Population</th>\n",
       "      <th>Households</th>\n",
       "      <th>Person's Household</th>\n",
       "      <th>Gender Ratio</th>\n",
       "    </tr>\n",
       "  </thead>\n",
       "  <tbody>\n",
       "    <tr>\n",
       "      <th>62</th>\n",
       "      <td>112</td>\n",
       "      <td>1155</td>\n",
       "      <td>20825</td>\n",
       "      <td>11,172</td>\n",
       "      <td>1.86</td>\n",
       "      <td>1.29</td>\n",
       "    </tr>\n",
       "    <tr>\n",
       "      <th>149</th>\n",
       "      <td>101</td>\n",
       "      <td>1240</td>\n",
       "      <td>26790</td>\n",
       "      <td>13,433</td>\n",
       "      <td>1.99</td>\n",
       "      <td>1.27</td>\n",
       "    </tr>\n",
       "    <tr>\n",
       "      <th>152</th>\n",
       "      <td>101</td>\n",
       "      <td>1017</td>\n",
       "      <td>30066</td>\n",
       "      <td>15,485</td>\n",
       "      <td>1.94</td>\n",
       "      <td>1.15</td>\n",
       "    </tr>\n",
       "    <tr>\n",
       "      <th>167</th>\n",
       "      <td>117</td>\n",
       "      <td>1033</td>\n",
       "      <td>38027</td>\n",
       "      <td>19,145</td>\n",
       "      <td>1.99</td>\n",
       "      <td>1.03</td>\n",
       "    </tr>\n",
       "    <tr>\n",
       "      <th>227</th>\n",
       "      <td>113</td>\n",
       "      <td>1120</td>\n",
       "      <td>43566</td>\n",
       "      <td>22,248</td>\n",
       "      <td>1.96</td>\n",
       "      <td>1.11</td>\n",
       "    </tr>\n",
       "    <tr>\n",
       "      <th>253</th>\n",
       "      <td>104</td>\n",
       "      <td>1163</td>\n",
       "      <td>10304</td>\n",
       "      <td>5,365</td>\n",
       "      <td>1.92</td>\n",
       "      <td>1.15</td>\n",
       "    </tr>\n",
       "  </tbody>\n",
       "</table>\n",
       "</div>"
      ],
      "text/plain": [
       "     Province Code  City Code  Population Households  Person's Household   \n",
       "62             112       1155       20825    11,172                 1.86  \\\n",
       "149            101       1240       26790    13,433                 1.99   \n",
       "152            101       1017       30066    15,485                 1.94   \n",
       "167            117       1033       38027    19,145                 1.99   \n",
       "227            113       1120       43566    22,248                 1.96   \n",
       "253            104       1163       10304     5,365                 1.92   \n",
       "\n",
       "     Gender Ratio  \n",
       "62           1.29  \n",
       "149          1.27  \n",
       "152          1.15  \n",
       "167          1.03  \n",
       "227          1.11  \n",
       "253          1.15  "
      ]
     },
     "execution_count": 19,
     "metadata": {},
     "output_type": "execute_result"
    }
   ],
   "source": [
    "df[(df['Gender Ratio'] > 1) & (df[\"Person's Household\"] < 2)]"
   ]
  },
  {
   "cell_type": "markdown",
   "id": "b70dad7b",
   "metadata": {},
   "source": [
    "4)\tSort the DataFrame in ascending order of the 'Households'. Show the top 10."
   ]
  },
  {
   "cell_type": "code",
   "execution_count": 20,
   "id": "3ad93b1b",
   "metadata": {},
   "outputs": [],
   "source": [
    "df['Households'] = df['Households'].apply(lambda x: int(x.replace(',', '')))"
   ]
  },
  {
   "cell_type": "code",
   "execution_count": 21,
   "id": "07ec7235",
   "metadata": {},
   "outputs": [
    {
     "data": {
      "text/html": [
       "<div>\n",
       "<style scoped>\n",
       "    .dataframe tbody tr th:only-of-type {\n",
       "        vertical-align: middle;\n",
       "    }\n",
       "\n",
       "    .dataframe tbody tr th {\n",
       "        vertical-align: top;\n",
       "    }\n",
       "\n",
       "    .dataframe thead th {\n",
       "        text-align: right;\n",
       "    }\n",
       "</style>\n",
       "<table border=\"1\" class=\"dataframe\">\n",
       "  <thead>\n",
       "    <tr style=\"text-align: right;\">\n",
       "      <th></th>\n",
       "      <th>Province Code</th>\n",
       "      <th>City Code</th>\n",
       "      <th>Population</th>\n",
       "      <th>Households</th>\n",
       "      <th>Person's Household</th>\n",
       "      <th>Gender Ratio</th>\n",
       "    </tr>\n",
       "  </thead>\n",
       "  <tbody>\n",
       "    <tr>\n",
       "      <th>253</th>\n",
       "      <td>104</td>\n",
       "      <td>1163</td>\n",
       "      <td>10304</td>\n",
       "      <td>5365</td>\n",
       "      <td>1.92</td>\n",
       "      <td>1.15</td>\n",
       "    </tr>\n",
       "    <tr>\n",
       "      <th>244</th>\n",
       "      <td>104</td>\n",
       "      <td>1147</td>\n",
       "      <td>17984</td>\n",
       "      <td>8769</td>\n",
       "      <td>2.05</td>\n",
       "      <td>0.97</td>\n",
       "    </tr>\n",
       "    <tr>\n",
       "      <th>200</th>\n",
       "      <td>114</td>\n",
       "      <td>1179</td>\n",
       "      <td>23308</td>\n",
       "      <td>10877</td>\n",
       "      <td>2.14</td>\n",
       "      <td>0.98</td>\n",
       "    </tr>\n",
       "    <tr>\n",
       "      <th>150</th>\n",
       "      <td>101</td>\n",
       "      <td>1130</td>\n",
       "      <td>24283</td>\n",
       "      <td>11162</td>\n",
       "      <td>2.18</td>\n",
       "      <td>1.17</td>\n",
       "    </tr>\n",
       "    <tr>\n",
       "      <th>62</th>\n",
       "      <td>112</td>\n",
       "      <td>1155</td>\n",
       "      <td>20825</td>\n",
       "      <td>11172</td>\n",
       "      <td>1.86</td>\n",
       "      <td>1.29</td>\n",
       "    </tr>\n",
       "    <tr>\n",
       "      <th>...</th>\n",
       "      <td>...</td>\n",
       "      <td>...</td>\n",
       "      <td>...</td>\n",
       "      <td>...</td>\n",
       "      <td>...</td>\n",
       "      <td>...</td>\n",
       "    </tr>\n",
       "    <tr>\n",
       "      <th>228</th>\n",
       "      <td>104</td>\n",
       "      <td>1001</td>\n",
       "      <td>2697791</td>\n",
       "      <td>1160150</td>\n",
       "      <td>2.33</td>\n",
       "      <td>1.01</td>\n",
       "    </tr>\n",
       "    <tr>\n",
       "      <th>254</th>\n",
       "      <td>103</td>\n",
       "      <td>1001</td>\n",
       "      <td>3356540</td>\n",
       "      <td>1356430</td>\n",
       "      <td>2.47</td>\n",
       "      <td>1.02</td>\n",
       "    </tr>\n",
       "    <tr>\n",
       "      <th>26</th>\n",
       "      <td>108</td>\n",
       "      <td>1001</td>\n",
       "      <td>3517491</td>\n",
       "      <td>1430441</td>\n",
       "      <td>2.46</td>\n",
       "      <td>0.98</td>\n",
       "    </tr>\n",
       "    <tr>\n",
       "      <th>0</th>\n",
       "      <td>109</td>\n",
       "      <td>1001</td>\n",
       "      <td>10078850</td>\n",
       "      <td>4197478</td>\n",
       "      <td>2.40</td>\n",
       "      <td>0.97</td>\n",
       "    </tr>\n",
       "    <tr>\n",
       "      <th>83</th>\n",
       "      <td>102</td>\n",
       "      <td>1001</td>\n",
       "      <td>12432063</td>\n",
       "      <td>4829521</td>\n",
       "      <td>2.57</td>\n",
       "      <td>1.01</td>\n",
       "    </tr>\n",
       "  </tbody>\n",
       "</table>\n",
       "<p>281 rows × 6 columns</p>\n",
       "</div>"
      ],
      "text/plain": [
       "     Province Code  City Code  Population  Households  Person's Household   \n",
       "253            104       1163       10304        5365                1.92  \\\n",
       "244            104       1147       17984        8769                2.05   \n",
       "200            114       1179       23308       10877                2.14   \n",
       "150            101       1130       24283       11162                2.18   \n",
       "62             112       1155       20825       11172                1.86   \n",
       "..             ...        ...         ...         ...                 ...   \n",
       "228            104       1001     2697791     1160150                2.33   \n",
       "254            103       1001     3356540     1356430                2.47   \n",
       "26             108       1001     3517491     1430441                2.46   \n",
       "0              109       1001    10078850     4197478                2.40   \n",
       "83             102       1001    12432063     4829521                2.57   \n",
       "\n",
       "     Gender Ratio  \n",
       "253          1.15  \n",
       "244          0.97  \n",
       "200          0.98  \n",
       "150          1.17  \n",
       "62           1.29  \n",
       "..            ...  \n",
       "228          1.01  \n",
       "254          1.02  \n",
       "26           0.98  \n",
       "0            0.97  \n",
       "83           1.01  \n",
       "\n",
       "[281 rows x 6 columns]"
      ]
     },
     "execution_count": 21,
     "metadata": {},
     "output_type": "execute_result"
    }
   ],
   "source": [
    "df.sort_values(by='Households')"
   ]
  },
  {
   "cell_type": "markdown",
   "id": "43c79103",
   "metadata": {},
   "source": [
    "Q3.\tAnswer the following questions."
   ]
  },
  {
   "cell_type": "code",
   "execution_count": 22,
   "id": "6d4eae48",
   "metadata": {},
   "outputs": [
    {
     "data": {
      "text/html": [
       "<div>\n",
       "<style scoped>\n",
       "    .dataframe tbody tr th:only-of-type {\n",
       "        vertical-align: middle;\n",
       "    }\n",
       "\n",
       "    .dataframe tbody tr th {\n",
       "        vertical-align: top;\n",
       "    }\n",
       "\n",
       "    .dataframe thead th {\n",
       "        text-align: right;\n",
       "    }\n",
       "</style>\n",
       "<table border=\"1\" class=\"dataframe\">\n",
       "  <thead>\n",
       "    <tr style=\"text-align: right;\">\n",
       "      <th></th>\n",
       "      <th>Date</th>\n",
       "      <th>Region</th>\n",
       "      <th>Item</th>\n",
       "      <th>Unit Price</th>\n",
       "      <th>Units</th>\n",
       "    </tr>\n",
       "  </thead>\n",
       "  <tbody>\n",
       "    <tr>\n",
       "      <th>0</th>\n",
       "      <td>04-Jul-14</td>\n",
       "      <td>East</td>\n",
       "      <td>Pen Set</td>\n",
       "      <td>4.99</td>\n",
       "      <td>62</td>\n",
       "    </tr>\n",
       "    <tr>\n",
       "      <th>1</th>\n",
       "      <td>12-Jul-14</td>\n",
       "      <td>East</td>\n",
       "      <td>Binder</td>\n",
       "      <td>1.99</td>\n",
       "      <td>29</td>\n",
       "    </tr>\n",
       "    <tr>\n",
       "      <th>2</th>\n",
       "      <td>21-Jul-14</td>\n",
       "      <td>Central</td>\n",
       "      <td>Pen Set</td>\n",
       "      <td>12.49</td>\n",
       "      <td>55</td>\n",
       "    </tr>\n",
       "    <tr>\n",
       "      <th>3</th>\n",
       "      <td>29-Jul-14</td>\n",
       "      <td>East</td>\n",
       "      <td>Binder</td>\n",
       "      <td>19.99</td>\n",
       "      <td>81</td>\n",
       "    </tr>\n",
       "    <tr>\n",
       "      <th>4</th>\n",
       "      <td>07-Aug-14</td>\n",
       "      <td>Central</td>\n",
       "      <td>Pen Set</td>\n",
       "      <td>23.95</td>\n",
       "      <td>42</td>\n",
       "    </tr>\n",
       "  </tbody>\n",
       "</table>\n",
       "</div>"
      ],
      "text/plain": [
       "        Date   Region     Item  Unit Price  Units\n",
       "0  04-Jul-14     East  Pen Set        4.99     62\n",
       "1  12-Jul-14     East   Binder        1.99     29\n",
       "2  21-Jul-14  Central  Pen Set       12.49     55\n",
       "3  29-Jul-14     East   Binder       19.99     81\n",
       "4  07-Aug-14  Central  Pen Set       23.95     42"
      ]
     },
     "execution_count": 22,
     "metadata": {},
     "output_type": "execute_result"
    }
   ],
   "source": [
    "import pandas as pd\n",
    "import numpy as np\n",
    "import os\n",
    "\n",
    "#Read in the data.\n",
    "# Go to the directory where the data file is located. \n",
    "# os.chdir(r'~~')                # Please, replace the path with your own.\n",
    "df = pd.read_csv('data_sales.csv', header='infer')\n",
    "df.shape\n",
    "df.head(5)\n"
   ]
  },
  {
   "cell_type": "raw",
   "id": "afa7b134",
   "metadata": {},
   "source": [
    "1)\tAppend a new variable 𝐴𝑚𝑜𝑢𝑛𝑡=𝑈𝑛𝑖𝑡𝑃𝑟𝑖𝑐×𝑈𝑛𝑖𝑡𝑠Amount=UnitPric×Units.\n",
    "2)\tAverage unit price for each region. Use the groupby() method.\n",
    "3)\tAverage unit price for each region. Use the pivot_table() method.\n",
    "4)\tAverage unit price and units for each region in one code sentence. Use the groupby() method.\n",
    "5)\tAverage unit price and units for each region in one code sentence. Use the pivot_table() method.\n",
    "6)\tTotal units for each region and item type in one code sentence. Use the pivot_table() method. Fill the missing values with 0.\n",
    "7)\tTotal sales amount for each region and item type in one code sentence. Use the pivot_table() method. Fill the missing values with 0.\n"
   ]
  },
  {
   "cell_type": "markdown",
   "id": "4fe22163",
   "metadata": {},
   "source": [
    "1)\tAppend a new variable 𝐴𝑚𝑜𝑢𝑛𝑡=𝑈𝑛𝑖𝑡𝑃𝑟𝑖𝑐×𝑈𝑛𝑖𝑡𝑠Amount=UnitPric×Units."
   ]
  },
  {
   "cell_type": "code",
   "execution_count": 23,
   "id": "1b7a5d3c",
   "metadata": {},
   "outputs": [],
   "source": [
    "df['Amount'] = df['Unit Price'] * df['Units']"
   ]
  },
  {
   "cell_type": "markdown",
   "id": "774a1ce6",
   "metadata": {},
   "source": [
    "2)\tAverage unit price for each region. Use the groupby() method."
   ]
  },
  {
   "cell_type": "code",
   "execution_count": 24,
   "id": "a831828d",
   "metadata": {},
   "outputs": [
    {
     "data": {
      "text/plain": [
       "Region\n",
       "Central    18.018750\n",
       "East        9.143846\n",
       "West       53.658333\n",
       "Name: Unit Price, dtype: float64"
      ]
     },
     "execution_count": 24,
     "metadata": {},
     "output_type": "execute_result"
    }
   ],
   "source": [
    "df.groupby('Region')['Unit Price'].mean()"
   ]
  },
  {
   "cell_type": "markdown",
   "id": "dc43be3d",
   "metadata": {},
   "source": [
    "3)\tAverage unit price for each region. Use the pivot_table() method."
   ]
  },
  {
   "cell_type": "code",
   "execution_count": 25,
   "id": "237773df",
   "metadata": {
    "scrolled": true
   },
   "outputs": [
    {
     "data": {
      "text/html": [
       "<div>\n",
       "<style scoped>\n",
       "    .dataframe tbody tr th:only-of-type {\n",
       "        vertical-align: middle;\n",
       "    }\n",
       "\n",
       "    .dataframe tbody tr th {\n",
       "        vertical-align: top;\n",
       "    }\n",
       "\n",
       "    .dataframe thead th {\n",
       "        text-align: right;\n",
       "    }\n",
       "</style>\n",
       "<table border=\"1\" class=\"dataframe\">\n",
       "  <thead>\n",
       "    <tr style=\"text-align: right;\">\n",
       "      <th></th>\n",
       "      <th>Unit Price</th>\n",
       "    </tr>\n",
       "    <tr>\n",
       "      <th>Region</th>\n",
       "      <th></th>\n",
       "    </tr>\n",
       "  </thead>\n",
       "  <tbody>\n",
       "    <tr>\n",
       "      <th>Central</th>\n",
       "      <td>18.018750</td>\n",
       "    </tr>\n",
       "    <tr>\n",
       "      <th>East</th>\n",
       "      <td>9.143846</td>\n",
       "    </tr>\n",
       "    <tr>\n",
       "      <th>West</th>\n",
       "      <td>53.658333</td>\n",
       "    </tr>\n",
       "  </tbody>\n",
       "</table>\n",
       "</div>"
      ],
      "text/plain": [
       "         Unit Price\n",
       "Region             \n",
       "Central   18.018750\n",
       "East       9.143846\n",
       "West      53.658333"
      ]
     },
     "execution_count": 25,
     "metadata": {},
     "output_type": "execute_result"
    }
   ],
   "source": [
    "df.pivot_table(index='Region', values='Unit Price', aggfunc='mean')"
   ]
  },
  {
   "cell_type": "markdown",
   "id": "aac9dec4",
   "metadata": {},
   "source": [
    "4)\tAverage unit price and units for each region in one code sentence. Use the groupby() method."
   ]
  },
  {
   "cell_type": "code",
   "execution_count": 26,
   "id": "e2c6bb3e",
   "metadata": {},
   "outputs": [
    {
     "data": {
      "text/html": [
       "<div>\n",
       "<style scoped>\n",
       "    .dataframe tbody tr th:only-of-type {\n",
       "        vertical-align: middle;\n",
       "    }\n",
       "\n",
       "    .dataframe tbody tr th {\n",
       "        vertical-align: top;\n",
       "    }\n",
       "\n",
       "    .dataframe thead th {\n",
       "        text-align: right;\n",
       "    }\n",
       "</style>\n",
       "<table border=\"1\" class=\"dataframe\">\n",
       "  <thead>\n",
       "    <tr style=\"text-align: right;\">\n",
       "      <th></th>\n",
       "      <th>Unit Price</th>\n",
       "      <th>Units</th>\n",
       "    </tr>\n",
       "    <tr>\n",
       "      <th>Region</th>\n",
       "      <th></th>\n",
       "      <th></th>\n",
       "    </tr>\n",
       "  </thead>\n",
       "  <tbody>\n",
       "    <tr>\n",
       "      <th>Central</th>\n",
       "      <td>18.018750</td>\n",
       "      <td>49.958333</td>\n",
       "    </tr>\n",
       "    <tr>\n",
       "      <th>East</th>\n",
       "      <td>9.143846</td>\n",
       "      <td>53.153846</td>\n",
       "    </tr>\n",
       "    <tr>\n",
       "      <th>West</th>\n",
       "      <td>53.658333</td>\n",
       "      <td>38.500000</td>\n",
       "    </tr>\n",
       "  </tbody>\n",
       "</table>\n",
       "</div>"
      ],
      "text/plain": [
       "         Unit Price      Units\n",
       "Region                        \n",
       "Central   18.018750  49.958333\n",
       "East       9.143846  53.153846\n",
       "West      53.658333  38.500000"
      ]
     },
     "execution_count": 26,
     "metadata": {},
     "output_type": "execute_result"
    }
   ],
   "source": [
    "df.groupby('Region')[['Unit Price', 'Units']].mean()"
   ]
  },
  {
   "cell_type": "markdown",
   "id": "aea2f8e1",
   "metadata": {},
   "source": [
    "5)\tAverage unit price and units for each region in one code sentence. Use the pivot_table() method."
   ]
  },
  {
   "cell_type": "code",
   "execution_count": 27,
   "id": "f8c1d2dd",
   "metadata": {},
   "outputs": [
    {
     "data": {
      "text/html": [
       "<div>\n",
       "<style scoped>\n",
       "    .dataframe tbody tr th:only-of-type {\n",
       "        vertical-align: middle;\n",
       "    }\n",
       "\n",
       "    .dataframe tbody tr th {\n",
       "        vertical-align: top;\n",
       "    }\n",
       "\n",
       "    .dataframe thead th {\n",
       "        text-align: right;\n",
       "    }\n",
       "</style>\n",
       "<table border=\"1\" class=\"dataframe\">\n",
       "  <thead>\n",
       "    <tr style=\"text-align: right;\">\n",
       "      <th></th>\n",
       "      <th>Unit Price</th>\n",
       "      <th>Units</th>\n",
       "    </tr>\n",
       "    <tr>\n",
       "      <th>Region</th>\n",
       "      <th></th>\n",
       "      <th></th>\n",
       "    </tr>\n",
       "  </thead>\n",
       "  <tbody>\n",
       "    <tr>\n",
       "      <th>Central</th>\n",
       "      <td>18.018750</td>\n",
       "      <td>49.958333</td>\n",
       "    </tr>\n",
       "    <tr>\n",
       "      <th>East</th>\n",
       "      <td>9.143846</td>\n",
       "      <td>53.153846</td>\n",
       "    </tr>\n",
       "    <tr>\n",
       "      <th>West</th>\n",
       "      <td>53.658333</td>\n",
       "      <td>38.500000</td>\n",
       "    </tr>\n",
       "  </tbody>\n",
       "</table>\n",
       "</div>"
      ],
      "text/plain": [
       "         Unit Price      Units\n",
       "Region                        \n",
       "Central   18.018750  49.958333\n",
       "East       9.143846  53.153846\n",
       "West      53.658333  38.500000"
      ]
     },
     "execution_count": 27,
     "metadata": {},
     "output_type": "execute_result"
    }
   ],
   "source": [
    "df.pivot_table(index='Region', values=['Unit Price', 'Units'], aggfunc='mean')"
   ]
  },
  {
   "cell_type": "markdown",
   "id": "d98e6698",
   "metadata": {},
   "source": [
    "6)\tTotal units for each region and item type in one code sentence. Use the pivot_table() method. Fill the missing values with 0."
   ]
  },
  {
   "cell_type": "code",
   "execution_count": 28,
   "id": "aa1c3dbe",
   "metadata": {},
   "outputs": [
    {
     "data": {
      "text/html": [
       "<div>\n",
       "<style scoped>\n",
       "    .dataframe tbody tr th:only-of-type {\n",
       "        vertical-align: middle;\n",
       "    }\n",
       "\n",
       "    .dataframe tbody tr th {\n",
       "        vertical-align: top;\n",
       "    }\n",
       "\n",
       "    .dataframe thead th {\n",
       "        text-align: right;\n",
       "    }\n",
       "</style>\n",
       "<table border=\"1\" class=\"dataframe\">\n",
       "  <thead>\n",
       "    <tr style=\"text-align: right;\">\n",
       "      <th></th>\n",
       "      <th></th>\n",
       "      <th>Units</th>\n",
       "    </tr>\n",
       "    <tr>\n",
       "      <th>Region</th>\n",
       "      <th>Item</th>\n",
       "      <th></th>\n",
       "    </tr>\n",
       "  </thead>\n",
       "  <tbody>\n",
       "    <tr>\n",
       "      <th rowspan=\"5\" valign=\"top\">Central</th>\n",
       "      <th>Binder</th>\n",
       "      <td>424</td>\n",
       "    </tr>\n",
       "    <tr>\n",
       "      <th>Desk</th>\n",
       "      <td>7</td>\n",
       "    </tr>\n",
       "    <tr>\n",
       "      <th>Pen</th>\n",
       "      <td>27</td>\n",
       "    </tr>\n",
       "    <tr>\n",
       "      <th>Pen Set</th>\n",
       "      <td>243</td>\n",
       "    </tr>\n",
       "    <tr>\n",
       "      <th>Pencil</th>\n",
       "      <td>498</td>\n",
       "    </tr>\n",
       "    <tr>\n",
       "      <th rowspan=\"4\" valign=\"top\">East</th>\n",
       "      <th>Binder</th>\n",
       "      <td>234</td>\n",
       "    </tr>\n",
       "    <tr>\n",
       "      <th>Pen</th>\n",
       "      <td>175</td>\n",
       "    </tr>\n",
       "    <tr>\n",
       "      <th>Pen Set</th>\n",
       "      <td>152</td>\n",
       "    </tr>\n",
       "    <tr>\n",
       "      <th>Pencil</th>\n",
       "      <td>130</td>\n",
       "    </tr>\n",
       "    <tr>\n",
       "      <th rowspan=\"4\" valign=\"top\">West</th>\n",
       "      <th>Binder</th>\n",
       "      <td>64</td>\n",
       "    </tr>\n",
       "    <tr>\n",
       "      <th>Desk</th>\n",
       "      <td>3</td>\n",
       "    </tr>\n",
       "    <tr>\n",
       "      <th>Pen</th>\n",
       "      <td>76</td>\n",
       "    </tr>\n",
       "    <tr>\n",
       "      <th>Pencil</th>\n",
       "      <td>88</td>\n",
       "    </tr>\n",
       "  </tbody>\n",
       "</table>\n",
       "</div>"
      ],
      "text/plain": [
       "                 Units\n",
       "Region  Item          \n",
       "Central Binder     424\n",
       "        Desk         7\n",
       "        Pen         27\n",
       "        Pen Set    243\n",
       "        Pencil     498\n",
       "East    Binder     234\n",
       "        Pen        175\n",
       "        Pen Set    152\n",
       "        Pencil     130\n",
       "West    Binder      64\n",
       "        Desk         3\n",
       "        Pen         76\n",
       "        Pencil      88"
      ]
     },
     "execution_count": 28,
     "metadata": {},
     "output_type": "execute_result"
    }
   ],
   "source": [
    "df.pivot_table(index=['Region', 'Item'], values='Units', aggfunc='sum', fill_value=0)"
   ]
  },
  {
   "cell_type": "markdown",
   "id": "9a7d1d96",
   "metadata": {},
   "source": [
    "7)\tTotal sales amount for each region and item type in one code sentence. Use the pivot_table() method. Fill the missing values with 0."
   ]
  },
  {
   "cell_type": "code",
   "execution_count": 29,
   "id": "a40d1eb4",
   "metadata": {},
   "outputs": [
    {
     "data": {
      "text/html": [
       "<div>\n",
       "<style scoped>\n",
       "    .dataframe tbody tr th:only-of-type {\n",
       "        vertical-align: middle;\n",
       "    }\n",
       "\n",
       "    .dataframe tbody tr th {\n",
       "        vertical-align: top;\n",
       "    }\n",
       "\n",
       "    .dataframe thead th {\n",
       "        text-align: right;\n",
       "    }\n",
       "</style>\n",
       "<table border=\"1\" class=\"dataframe\">\n",
       "  <thead>\n",
       "    <tr style=\"text-align: right;\">\n",
       "      <th></th>\n",
       "      <th></th>\n",
       "      <th>Amount</th>\n",
       "    </tr>\n",
       "    <tr>\n",
       "      <th>Region</th>\n",
       "      <th>Item</th>\n",
       "      <th></th>\n",
       "    </tr>\n",
       "  </thead>\n",
       "  <tbody>\n",
       "    <tr>\n",
       "      <th rowspan=\"5\" valign=\"top\">Central</th>\n",
       "      <th>Binder</th>\n",
       "      <td>5762.63</td>\n",
       "    </tr>\n",
       "    <tr>\n",
       "      <th>Desk</th>\n",
       "      <td>875.00</td>\n",
       "    </tr>\n",
       "    <tr>\n",
       "      <th>Pen</th>\n",
       "      <td>539.73</td>\n",
       "    </tr>\n",
       "    <tr>\n",
       "      <th>Pen Set</th>\n",
       "      <td>2421.39</td>\n",
       "    </tr>\n",
       "    <tr>\n",
       "      <th>Pencil</th>\n",
       "      <td>1540.32</td>\n",
       "    </tr>\n",
       "    <tr>\n",
       "      <th rowspan=\"4\" valign=\"top\">East</th>\n",
       "      <th>Binder</th>\n",
       "      <td>2535.66</td>\n",
       "    </tr>\n",
       "    <tr>\n",
       "      <th>Pen</th>\n",
       "      <td>1354.25</td>\n",
       "    </tr>\n",
       "    <tr>\n",
       "      <th>Pen Set</th>\n",
       "      <td>1748.48</td>\n",
       "    </tr>\n",
       "    <tr>\n",
       "      <th>Pencil</th>\n",
       "      <td>363.70</td>\n",
       "    </tr>\n",
       "    <tr>\n",
       "      <th rowspan=\"4\" valign=\"top\">West</th>\n",
       "      <th>Binder</th>\n",
       "      <td>1279.36</td>\n",
       "    </tr>\n",
       "    <tr>\n",
       "      <th>Desk</th>\n",
       "      <td>825.00</td>\n",
       "    </tr>\n",
       "    <tr>\n",
       "      <th>Pen</th>\n",
       "      <td>151.24</td>\n",
       "    </tr>\n",
       "    <tr>\n",
       "      <th>Pencil</th>\n",
       "      <td>231.12</td>\n",
       "    </tr>\n",
       "  </tbody>\n",
       "</table>\n",
       "</div>"
      ],
      "text/plain": [
       "                  Amount\n",
       "Region  Item            \n",
       "Central Binder   5762.63\n",
       "        Desk      875.00\n",
       "        Pen       539.73\n",
       "        Pen Set  2421.39\n",
       "        Pencil   1540.32\n",
       "East    Binder   2535.66\n",
       "        Pen      1354.25\n",
       "        Pen Set  1748.48\n",
       "        Pencil    363.70\n",
       "West    Binder   1279.36\n",
       "        Desk      825.00\n",
       "        Pen       151.24\n",
       "        Pencil    231.12"
      ]
     },
     "execution_count": 29,
     "metadata": {},
     "output_type": "execute_result"
    }
   ],
   "source": [
    "df.pivot_table(values='Amount', index=['Region', 'Item'], aggfunc='sum', fill_value=0)"
   ]
  },
  {
   "cell_type": "markdown",
   "id": "ff50f4a9",
   "metadata": {},
   "source": [
    "Q4.\tAnswer the following questions."
   ]
  },
  {
   "cell_type": "code",
   "execution_count": 30,
   "id": "68bab206",
   "metadata": {},
   "outputs": [
    {
     "data": {
      "text/html": [
       "<div>\n",
       "<style scoped>\n",
       "    .dataframe tbody tr th:only-of-type {\n",
       "        vertical-align: middle;\n",
       "    }\n",
       "\n",
       "    .dataframe tbody tr th {\n",
       "        vertical-align: top;\n",
       "    }\n",
       "\n",
       "    .dataframe thead th {\n",
       "        text-align: right;\n",
       "    }\n",
       "</style>\n",
       "<table border=\"1\" class=\"dataframe\">\n",
       "  <thead>\n",
       "    <tr style=\"text-align: right;\">\n",
       "      <th></th>\n",
       "      <th>Year of Start</th>\n",
       "      <th>Current State</th>\n",
       "      <th>Size of Site</th>\n",
       "    </tr>\n",
       "  </thead>\n",
       "  <tbody>\n",
       "    <tr>\n",
       "      <th>0</th>\n",
       "      <td>2008.0</td>\n",
       "      <td>In</td>\n",
       "      <td>20.80</td>\n",
       "    </tr>\n",
       "    <tr>\n",
       "      <th>1</th>\n",
       "      <td>2010.0</td>\n",
       "      <td>In</td>\n",
       "      <td>212.72</td>\n",
       "    </tr>\n",
       "    <tr>\n",
       "      <th>2</th>\n",
       "      <td>2013.0</td>\n",
       "      <td>In</td>\n",
       "      <td>20.04</td>\n",
       "    </tr>\n",
       "    <tr>\n",
       "      <th>3</th>\n",
       "      <td>2012.0</td>\n",
       "      <td>In</td>\n",
       "      <td>64.17</td>\n",
       "    </tr>\n",
       "    <tr>\n",
       "      <th>4</th>\n",
       "      <td>2002.0</td>\n",
       "      <td>Out</td>\n",
       "      <td>11.40</td>\n",
       "    </tr>\n",
       "  </tbody>\n",
       "</table>\n",
       "</div>"
      ],
      "text/plain": [
       "   Year of Start Current State  Size of Site\n",
       "0         2008.0            In         20.80\n",
       "1         2010.0            In        212.72\n",
       "2         2013.0            In         20.04\n",
       "3         2012.0            In         64.17\n",
       "4         2002.0           Out         11.40"
      ]
     },
     "execution_count": 30,
     "metadata": {},
     "output_type": "execute_result"
    }
   ],
   "source": [
    "import pandas as pd\n",
    "import numpy as np\n",
    "import os\n",
    "import matplotlib.pyplot as plt\n",
    "%matplotlib inline\n",
    "\n",
    "#Read in the data.\n",
    "# Go to the directory where the data file is located. \n",
    "# os.chdir(r'~~')                # Please, replace the path with your own.\n",
    "df = pd.read_csv('data_coffeeshop.csv', header='infer',na_values=[' '])\n",
    "df.shape\n",
    "df.head(5)\n"
   ]
  },
  {
   "cell_type": "raw",
   "id": "8ce41d58",
   "metadata": {},
   "source": [
    "1. Make a frequency table of 'yearOfStart' and visualize by year.\n",
    "•\tSort by the year.\n",
    "•\tDraw a line plot from 1997 to 2014. <= Hint: plt.xlim()\n"
   ]
  },
  {
   "cell_type": "code",
   "execution_count": 31,
   "id": "924be404",
   "metadata": {},
   "outputs": [],
   "source": [
    "df_freq= df['Year of Start'].value_counts()\n",
    "df_freq = df_freq.sort_index()"
   ]
  },
  {
   "cell_type": "code",
   "execution_count": 32,
   "id": "c050ff71",
   "metadata": {},
   "outputs": [
    {
     "data": {
      "image/png": "[encoded data removed]",
      "text/plain": [
       "<Figure size 640x480 with 1 Axes>"
      ]
     },
     "metadata": {},
     "output_type": "display_data"
    }
   ],
   "source": [
    "plt.plot(df_freq.index, df_freq.values, linestyle='--')\n",
    "plt.xlim([1997, 2014])\n",
    "plt.show()"
   ]
  },
  {
   "cell_type": "raw",
   "id": "2cc48a25",
   "metadata": {},
   "source": [
    "2) Split the data by the current state of business ('In' or 'Out' of business). Then, visualize the yearly trend of the 'yearOfStart' frequencies.\n",
    "•\tSort by the year.\n",
    "•\tDraw two overlapping line plots from 1997 to 2014.\n",
    "•\tUse the 'figure' object.\n"
   ]
  },
  {
   "cell_type": "code",
   "execution_count": 33,
   "id": "51f815e5",
   "metadata": {},
   "outputs": [],
   "source": [
    "df_in = df[df['Current State'] == 'In']\n",
    "df_out = df[df['Current State'] == 'Out']\n",
    "\n",
    "df_in_freq = df_in['Year of Start'].value_counts()\n",
    "df_in_freq.sort_index(inplace=True)\n",
    "df_out_freq = df_out['Year of Start'].value_counts()\n",
    "df_out_freq.sort_index(inplace=True)"
   ]
  },
  {
   "cell_type": "code",
   "execution_count": 34,
   "id": "719c4efb",
   "metadata": {},
   "outputs": [
    {
     "data": {
      "image/png": "[encoded data removed]",
      "text/plain": [
       "<Figure size 700x500 with 1 Axes>"
      ]
     },
     "metadata": {},
     "output_type": "display_data"
    }
   ],
   "source": [
    "fig, ax = plt.subplots(figsize=[7, 5])\n",
    "ax.plot(df_in_freq.index, df_in_freq.values, label='In Business', linestyle='--')\n",
    "ax.plot(df_out_freq.index, df_out_freq.values, label='Out of Business', linestyle='--')\n",
    "ax.legend()\n",
    "ax.set_xlim([1997, 2014])\n",
    "plt.show()"
   ]
  },
  {
   "cell_type": "raw",
   "id": "51e625f4",
   "metadata": {},
   "source": [
    "3) From the results of 1) and 2), how can you describe the trend in general?"
   ]
  },
  {
   "cell_type": "markdown",
   "id": "4ad6857f",
   "metadata": {},
   "source": [
    "- From the year 2008, there is a steep increase in the number of new coffee shops.\n",
    "- From year 2009 till 2014, more coffee shops that were opened in the past 5 years are still in business rather than going out of business."
   ]
  }
 ],
 "metadata": {
  "kernelspec": {
   "display_name": "Python 3 (ipykernel)",
   "language": "python",
   "name": "python3"
  },
  "language_info": {
   "codemirror_mode": {
    "name": "ipython",
    "version": 3
   },
   "file_extension": ".py",
   "mimetype": "text/x-python",
   "name": "python",
   "nbconvert_exporter": "python",
   "pygments_lexer": "ipython3",
   "version": "3.11.0"
  }
 },
 "nbformat": 4,
 "nbformat_minor": 5
}
