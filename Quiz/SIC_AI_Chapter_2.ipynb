{
 "cells": [
  {
   "cell_type": "markdown",
   "id": "db988160",
   "metadata": {},
   "source": [
    "Q1.\tCreate examples of zero vector, one vector, square matrix, diagonal matrix, identity matrix, and symmetric matrix one by one, and represent vectors and matrices with NumPy."
   ]
  },
  {
   "cell_type": "code",
   "execution_count": 1,
   "id": "cee76919",
   "metadata": {},
   "outputs": [],
   "source": [
    "import numpy as np"
   ]
  },
  {
   "cell_type": "code",
   "execution_count": 2,
   "id": "02c80d93",
   "metadata": {},
   "outputs": [
    {
     "data": {
      "text/plain": [
       "array([0., 0., 0., 0., 0.])"
      ]
     },
     "execution_count": 2,
     "metadata": {},
     "output_type": "execute_result"
    }
   ],
   "source": [
    "zero_vector = np.zeros(5)\n",
    "zero_vector"
   ]
  },
  {
   "cell_type": "code",
   "execution_count": 3,
   "id": "4137b58e",
   "metadata": {},
   "outputs": [
    {
     "data": {
      "text/plain": [
       "array([1., 1., 1.])"
      ]
     },
     "execution_count": 3,
     "metadata": {},
     "output_type": "execute_result"
    }
   ],
   "source": [
    "one_vector = np.ones(3)\n",
    "one_vector"
   ]
  },
  {
   "cell_type": "code",
   "execution_count": 4,
   "id": "1d11daa5",
   "metadata": {},
   "outputs": [
    {
     "data": {
      "text/plain": [
       "array([[1, 2, 3],\n",
       "       [4, 5, 6],\n",
       "       [7, 8, 9]])"
      ]
     },
     "execution_count": 4,
     "metadata": {},
     "output_type": "execute_result"
    }
   ],
   "source": [
    "square_matrix = np.array([[1,2,3], [4,5,6], [7,8,9]])\n",
    "square_matrix"
   ]
  },
  {
   "cell_type": "code",
   "execution_count": 5,
   "id": "70e447ca",
   "metadata": {},
   "outputs": [
    {
     "data": {
      "text/plain": [
       "array([[1, 0, 0],\n",
       "       [0, 2, 0],\n",
       "       [0, 0, 3]])"
      ]
     },
     "execution_count": 5,
     "metadata": {},
     "output_type": "execute_result"
    }
   ],
   "source": [
    "diagonal_matrix = np.diag([1, 2, 3])\n",
    "diagonal_matrix"
   ]
  },
  {
   "cell_type": "code",
   "execution_count": 6,
   "id": "c98a52c0",
   "metadata": {},
   "outputs": [
    {
     "data": {
      "text/plain": [
       "array([[1., 0., 0., 0.],\n",
       "       [0., 1., 0., 0.],\n",
       "       [0., 0., 1., 0.],\n",
       "       [0., 0., 0., 1.]])"
      ]
     },
     "execution_count": 6,
     "metadata": {},
     "output_type": "execute_result"
    }
   ],
   "source": [
    "identity_matrix = np.eye(4)\n",
    "identity_matrix"
   ]
  },
  {
   "cell_type": "code",
   "execution_count": 7,
   "id": "4468ec78",
   "metadata": {},
   "outputs": [
    {
     "data": {
      "text/plain": [
       "array([[1, 2, 3],\n",
       "       [2, 4, 5],\n",
       "       [3, 5, 6]])"
      ]
     },
     "execution_count": 7,
     "metadata": {},
     "output_type": "execute_result"
    }
   ],
   "source": [
    "symmetric_matrix = np.array([[1,2,3], [2, 4, 5], [3, 5, 6]])\n",
    "symmetric_matrix"
   ]
  },
  {
   "cell_type": "markdown",
   "id": "53f13d62",
   "metadata": {},
   "source": [
    "Q2.\tThe shares of three companies A, B, and C are 1 million won, 800,000 won, and 500,000 won, respectively. We want to find the amount required to purchase 3, 4, and 5 shares of these stocks, respectively."
   ]
  },
  {
   "cell_type": "markdown",
   "id": "6bf151a7",
   "metadata": {},
   "source": [
    "1)\tExpress the stocks’ price and quantity as p vector and n vector, respectively and coded with NumPy."
   ]
  },
  {
   "cell_type": "code",
   "execution_count": 8,
   "id": "ac0ce1a5",
   "metadata": {},
   "outputs": [
    {
     "data": {
      "text/plain": [
       "(array([1000000,  800000,  500000]), array([3, 4, 5]))"
      ]
     },
     "execution_count": 8,
     "metadata": {},
     "output_type": "execute_result"
    }
   ],
   "source": [
    "p = np.array([1000000, 800000, 500000])\n",
    "n = np.array([3, 4, 5])\n",
    "p, n"
   ]
  },
  {
   "cell_type": "markdown",
   "id": "5aef35c2",
   "metadata": {},
   "source": [
    "2)\tThe amount required to purchase stocks is expressed by multiplication, and the value is calculated by Numpy operation. "
   ]
  },
  {
   "cell_type": "code",
   "execution_count": 9,
   "id": "5dc26d1d",
   "metadata": {},
   "outputs": [
    {
     "data": {
      "text/plain": [
       "8700000"
      ]
     },
     "execution_count": 9,
     "metadata": {},
     "output_type": "execute_result"
    }
   ],
   "source": [
    "amount_required = np.dot(p, n)\n",
    "amount_required"
   ]
  },
  {
   "cell_type": "markdown",
   "id": "c7f66cc0",
   "metadata": {},
   "source": [
    "Q3.\tWhen the following code is executed, all data of the MNIST numeric image is converted into vectors to create a single NumPy matrix X. Use this matrix to solve the following problem."
   ]
  },
  {
   "cell_type": "code",
   "execution_count": 10,
   "id": "164c430e",
   "metadata": {},
   "outputs": [],
   "source": [
    "from sklearn.datasets import load_digits\n",
    "X=load_digits().data"
   ]
  },
  {
   "cell_type": "markdown",
   "id": "8fc6872f",
   "metadata": {},
   "source": [
    "1)\tFind the similarity between the first image and the tenth image using dot product."
   ]
  },
  {
   "cell_type": "code",
   "execution_count": 11,
   "id": "36c88d6b",
   "metadata": {},
   "outputs": [
    {
     "data": {
      "text/plain": [
       "2807.0"
      ]
     },
     "execution_count": 11,
     "metadata": {},
     "output_type": "execute_result"
    }
   ],
   "source": [
    "np.dot(X[0], X[9])"
   ]
  },
  {
   "cell_type": "markdown",
   "id": "7f854668",
   "metadata": {},
   "source": [
    "2)\tFind the similarity for a combination of all images using the dot product, how would it be efficient to implement it (hint: using matrices and multiplication of matrices)"
   ]
  },
  {
   "cell_type": "code",
   "execution_count": 12,
   "id": "d6e055f5",
   "metadata": {},
   "outputs": [
    {
     "data": {
      "text/plain": [
       "array([[3070., 1866., 2264., ..., 2812., 3006., 2898.],\n",
       "       [1866., 4209., 3432., ..., 3906., 3083., 3307.],\n",
       "       [2264., 3432., 4388., ..., 4005., 3063., 3697.],\n",
       "       ...,\n",
       "       [2812., 3906., 4005., ..., 5092., 3729., 4598.],\n",
       "       [3006., 3083., 3063., ..., 3729., 4316., 3850.],\n",
       "       [2898., 3307., 3697., ..., 4598., 3850., 4938.]])"
      ]
     },
     "execution_count": 12,
     "metadata": {},
     "output_type": "execute_result"
    }
   ],
   "source": [
    "similarity_matrix = np.dot(X, X.T)\n",
    "similarity_matrix"
   ]
  },
  {
   "cell_type": "markdown",
   "id": "adf8f4b5",
   "metadata": {},
   "source": [
    "Q4. The Boston house price problem is a problem of predicting the housing price of each town in Boston, USA using features such as the crime rate and air pollution in the area. It can be imported from the scikit-learn package. Find the weight vector x when the Boston house price problem is solved with the linear prediction model Ax= ̂b Matrix and vector data can be obtained as follows. Here, to simplify the problem, we limited the input data to crime rate (CRIM), air quality (NOX), number of rooms (RM), and age (AGE), and only four data were used.\n",
    "Run the code below to check whether the magnitude or sign of the weight vector obtained from running the program is consistent the common notion. In order to find it, interpret the printed output for all the factors: CRIM, NOX, RM and AGE.  \n",
    "(※ Write the interpreted output like the house price is in inverse proportion to the crime rate (CRIM).)\n"
   ]
  },
  {
   "cell_type": "code",
   "execution_count": 13,
   "id": "4c09327a",
   "metadata": {},
   "outputs": [
    {
     "name": "stderr",
     "output_type": "stream",
     "text": [
      "C:\\Users\\Lenovo\\anaconda3\\lib\\site-packages\\sklearn\\utils\\deprecation.py:87: FutureWarning: Function load_boston is deprecated; `load_boston` is deprecated in 1.0 and will be removed in 1.2.\n",
      "\n",
      "    The Boston housing prices dataset has an ethical problem. You can refer to\n",
      "    the documentation of this function for further details.\n",
      "\n",
      "    The scikit-learn maintainers therefore strongly discourage the use of this\n",
      "    dataset unless the purpose of the code is to study and educate about\n",
      "    ethical issues in data science and machine learning.\n",
      "\n",
      "    In this special case, you can fetch the dataset from the original\n",
      "    source::\n",
      "\n",
      "        import pandas as pd\n",
      "        import numpy as np\n",
      "\n",
      "\n",
      "        data_url = \"http://lib.stat.cmu.edu/datasets/boston\"\n",
      "        raw_df = pd.read_csv(data_url, sep=\"\\s+\", skiprows=22, header=None)\n",
      "        data = np.hstack([raw_df.values[::2, :], raw_df.values[1::2, :2]])\n",
      "        target = raw_df.values[1::2, 2]\n",
      "\n",
      "    Alternative datasets include the California housing dataset (i.e.\n",
      "    :func:`~sklearn.datasets.fetch_california_housing`) and the Ames housing\n",
      "    dataset. You can load the datasets as follows::\n",
      "\n",
      "        from sklearn.datasets import fetch_california_housing\n",
      "        housing = fetch_california_housing()\n",
      "\n",
      "    for the California housing dataset and::\n",
      "\n",
      "        from sklearn.datasets import fetch_openml\n",
      "        housing = fetch_openml(name=\"house_prices\", as_frame=True)\n",
      "\n",
      "    for the Ames housing dataset.\n",
      "    \n",
      "  warnings.warn(msg, category=FutureWarning)\n"
     ]
    }
   ],
   "source": [
    "from sklearn.datasets import load_boston\n",
    "boston=load_boston()\n",
    "X=boston.data\n",
    "y=boston.target\n",
    "A=X[:4, [0,4,5,6]] # ‘CRIM’,’NOX’,’RM’,’AGE’\n",
    "b=y[:4]\n"
   ]
  },
  {
   "cell_type": "code",
   "execution_count": 14,
   "id": "96ef03c7",
   "metadata": {},
   "outputs": [
    {
     "name": "stdout",
     "output_type": "stream",
     "text": [
      "Weight vector (x): [-3.12710043e+02 -1.15193942e+02  1.44996465e+01 -1.13259317e-01]\n"
     ]
    }
   ],
   "source": [
    "x = np.linalg.solve(A, b)\n",
    "print('Weight vector (x):', x)"
   ]
  },
  {
   "cell_type": "markdown",
   "id": "ac9802c2",
   "metadata": {},
   "source": [
    "Q5.\tFind the weight vector w when the Boston house price problem is solved with the linear prediction model X_w = y ̂ by the least-squares method. Matrix and vector data can be obtained as follows. \n",
    "(※ This is the question related to question 4.)\n"
   ]
  },
  {
   "cell_type": "code",
   "execution_count": 15,
   "id": "c9367120",
   "metadata": {},
   "outputs": [],
   "source": [
    "from sklearn.datasets import load_boston\n",
    "boston=load_boston()\n",
    "X=boston.data\n",
    "y=boston.target\n"
   ]
  },
  {
   "cell_type": "raw",
   "id": "da587b60",
   "metadata": {},
   "source": [
    "The meaning of each column of matrix X is as follows.\n",
    "\n",
    "CRIM: crime rate\n",
    "INDUS: Non-retail commercial area ratio\n",
    "NOX: Nitric Oxide Concentration\n",
    "RM: Number of rooms per house\n",
    "LSTAT: Proportion of the lower class of the population\n",
    "B: Proportion of black people in the population\n",
    "PTRATIO: Student/Teacher Ratio\n",
    "ZN: Percentage of residential areas exceeding 25,000 square feet\n",
    "CHAS: 1 if located on the Charles River border, 0 otherwise\n",
    "AGE: Percentage of houses built before 1940\n",
    "RAD: Distance to radial highway\n",
    "DIS: Weighted average distance to 5 Boston Job Centers\n",
    "TAX: property tax rate\n",
    "\n"
   ]
  },
  {
   "cell_type": "raw",
   "id": "efb340ae",
   "metadata": {},
   "source": [
    "\n",
    "w = np.linalg.lstsq(X, y, rcond=None)[0]\n",
    "print(\"Weight vector (w):\", w)"
   ]
  },
  {
   "cell_type": "markdown",
   "id": "91a50b7e",
   "metadata": {},
   "source": [
    "1)\tRun the program above to check whether the magnitude or sign of the weight vector obtained from running the program is consistent the common notion. In order to find it, interpret the printed output for all the factors suggested above.  \n",
    "(※ Write the interpreted output like “the house price is in inverse proportion to the crime rate (CRIM)”.)\n"
   ]
  },
  {
   "cell_type": "code",
   "execution_count": 16,
   "id": "3046f5ae",
   "metadata": {},
   "outputs": [
    {
     "name": "stdout",
     "output_type": "stream",
     "text": [
      "CRIM: -0.09289651702764082\n",
      "ZN: 0.04871495518300208\n",
      "INDUS: -0.0040599795750677\n",
      "CHAS: 2.85399881999393\n",
      "NOX: -2.8684363704128013\n",
      "RM: 5.9281477790526935\n",
      "AGE: -0.007269334576053091\n",
      "DIS: -0.9685141573950702\n",
      "RAD: 0.17115112829437976\n",
      "TAX: -0.009396215397158958\n",
      "PTRATIO: -0.3921909262948517\n",
      "B: 0.014905610228201836\n",
      "LSTAT: -0.41630447073745525\n"
     ]
    }
   ],
   "source": [
    "\n",
    "w = np.linalg.lstsq(X, y, rcond=None)[0]\n",
    "feature_names = boston.feature_names\n",
    "for i, feature in enumerate(feature_names):\n",
    "    print(f\"{feature}: {w[i]}\")"
   ]
  },
  {
   "cell_type": "markdown",
   "id": "97385287",
   "metadata": {},
   "source": [
    "2)\tExplain how the result differs from the value obtained in Question 4."
   ]
  },
  {
   "cell_type": "markdown",
   "id": "b5aee8d4",
   "metadata": {},
   "source": [
    "In conclusion, the weight vectors obtained from the linear prediction models differ in their values, number of elements, and interpretations of the weights. This is due to the fact that Question 4 used a subset of features, while Question 5 considered all features in the Boston housing dataset."
   ]
  },
  {
   "cell_type": "markdown",
   "id": "42b30894",
   "metadata": {},
   "source": [
    "Q6.\tThe ratings given by three users a, b, and c to 4 movies are expressed as vectors as follows."
   ]
  },
  {
   "cell_type": "code",
   "execution_count": 17,
   "id": "c9f9ed32",
   "metadata": {},
   "outputs": [],
   "source": [
    "a=np.array([[4],[5],[2],[2]])\n",
    "b=np.array([[4],[0],[2],[0]])\n",
    "c=np.array([[2],[2],[0],[1]])"
   ]
  },
  {
   "cell_type": "markdown",
   "id": "2ad000eb",
   "metadata": {},
   "source": [
    "1) The distance between b and c is the shortest in Euclidean space, and the distance between a and be is the longest. \n"
   ]
  },
  {
   "cell_type": "code",
   "execution_count": 18,
   "id": "c27ff405",
   "metadata": {},
   "outputs": [
    {
     "name": "stdout",
     "output_type": "stream",
     "text": [
      "Euclidean distance between b and c: 3.605551275463989\n",
      "Euclidean distance between a and b: 5.385164807134504\n",
      "Euclidean distance between a and c: 4.242640687119285\n"
     ]
    }
   ],
   "source": [
    "distance_b_c = np.linalg.norm(b - c)\n",
    "distance_a_b = np.linalg.norm(a - b)\n",
    "distance_a_c = np.linalg.norm(a - c)\n",
    "\n",
    "print(\"Euclidean distance between b and c:\", distance_b_c)\n",
    "print(\"Euclidean distance between a and b:\", distance_a_b)\n",
    "print(\"Euclidean distance between a and c:\", distance_a_c)"
   ]
  },
  {
   "cell_type": "markdown",
   "id": "8f9913c7",
   "metadata": {},
   "source": [
    "So, The distance between b and c is the shortest in Euclidean space, and the distance between a and be is the longest. "
   ]
  },
  {
   "cell_type": "markdown",
   "id": "471af18d",
   "metadata": {},
   "source": [
    "2) The distance between a and be is the shortest in Cosine distance, and the distance between b and c is the longest.  "
   ]
  },
  {
   "cell_type": "code",
   "execution_count": 19,
   "id": "35ac8bb8",
   "metadata": {},
   "outputs": [
    {
     "name": "stdout",
     "output_type": "stream",
     "text": [
      "Cosine distance between a and b: 0.17202277969703278\n",
      "Cosine distance between b and c: 0.26874192494328497\n",
      "Cosine distance between a and c: 0.20203050891044214\n"
     ]
    }
   ],
   "source": [
    "cosine_distance_a_b = np.linalg.norm(a - b) / (np.linalg.norm(a) * np.linalg.norm(b))\n",
    "cosine_distance_b_c = np.linalg.norm(b - c) / (np.linalg.norm(b) * np.linalg.norm(c))\n",
    "cosine_distance_a_c = np.linalg.norm(a - c) / (np.linalg.norm(a) * np.linalg.norm(c))\n",
    "\n",
    "\n",
    "print(\"Cosine distance between a and b:\", cosine_distance_a_b)\n",
    "print(\"Cosine distance between b and c:\", cosine_distance_b_c)\n",
    "print(\"Cosine distance between a and c:\", cosine_distance_a_c)"
   ]
  },
  {
   "cell_type": "markdown",
   "id": "1e93ac1c",
   "metadata": {},
   "source": [
    "Q7.\tFind the derivative that differentiates the following function using SymPy. In this expression, k, a, and b are constants, not variables."
   ]
  },
  {
   "cell_type": "raw",
   "id": "9ec03126",
   "metadata": {},
   "source": [
    "\tf(x) = x^3-1\n",
    "\n",
    "\tf(x) = log⁡(x^2-3k)\n",
    "\n",
    "\tf(x) =exp(〖ax〗^b)\n"
   ]
  },
  {
   "cell_type": "code",
   "execution_count": 20,
   "id": "3e6f7e06",
   "metadata": {},
   "outputs": [],
   "source": [
    "import sympy as sp"
   ]
  },
  {
   "cell_type": "markdown",
   "id": "ce24874a",
   "metadata": {},
   "source": [
    "\tf(x) = x^3-1"
   ]
  },
  {
   "cell_type": "code",
   "execution_count": 21,
   "id": "f9c4115c",
   "metadata": {},
   "outputs": [
    {
     "data": {
      "text/latex": [
       "$\\displaystyle 3 x^{2}$"
      ],
      "text/plain": [
       "3*x**2"
      ]
     },
     "execution_count": 21,
     "metadata": {},
     "output_type": "execute_result"
    }
   ],
   "source": [
    "x = sp.Symbol('x')\n",
    "f1 = x**3-1\n",
    "sp.diff(f1, x)"
   ]
  },
  {
   "cell_type": "markdown",
   "id": "ed26537e",
   "metadata": {},
   "source": [
    "\tf(x) = log⁡(x^2-3k)"
   ]
  },
  {
   "cell_type": "code",
   "execution_count": 22,
   "id": "d0b076c3",
   "metadata": {},
   "outputs": [
    {
     "data": {
      "text/latex": [
       "$\\displaystyle \\frac{2 x}{- 3 k + x^{2}}$"
      ],
      "text/plain": [
       "2*x/(-3*k + x**2)"
      ]
     },
     "execution_count": 22,
     "metadata": {},
     "output_type": "execute_result"
    }
   ],
   "source": [
    "x, k = sp.symbols('x k')\n",
    "f2 = sp.log(x**2-3*k)\n",
    "sp.diff(f2, x)"
   ]
  },
  {
   "cell_type": "markdown",
   "id": "6b8a2cec",
   "metadata": {},
   "source": [
    "\tf(x) =exp(〖ax〗^b)"
   ]
  },
  {
   "cell_type": "code",
   "execution_count": 23,
   "id": "db758431",
   "metadata": {},
   "outputs": [
    {
     "data": {
      "text/latex": [
       "$\\displaystyle \\frac{b \\left(a x\\right)^{b} e^{\\left(a x\\right)^{b}}}{x}$"
      ],
      "text/plain": [
       "b*(a*x)**b*exp((a*x)**b)/x"
      ]
     },
     "execution_count": 23,
     "metadata": {},
     "output_type": "execute_result"
    }
   ],
   "source": [
    "x, a, b = sp.symbols('x a b')\n",
    "f3 = sp.exp((a*x)**b)\n",
    "sp.diff(f3, x)"
   ]
  },
  {
   "cell_type": "markdown",
   "id": "7ec733e4",
   "metadata": {},
   "source": [
    "Q8. Find the first and second partial derivatives f_x,f_y,f_xx,f_xy,f_yx,f_yy for the following function using SymPy."
   ]
  },
  {
   "cell_type": "code",
   "execution_count": 24,
   "id": "3e873296",
   "metadata": {},
   "outputs": [
    {
     "data": {
      "text/latex": [
       "$\\displaystyle 3 x^{2}$"
      ],
      "text/plain": [
       "3*x**2"
      ]
     },
     "execution_count": 24,
     "metadata": {},
     "output_type": "execute_result"
    }
   ],
   "source": [
    "f_x = sp.diff(f1, x)\n",
    "f_x"
   ]
  },
  {
   "cell_type": "code",
   "execution_count": 25,
   "id": "35a39098",
   "metadata": {},
   "outputs": [
    {
     "data": {
      "text/latex": [
       "$\\displaystyle 6 x$"
      ],
      "text/plain": [
       "6*x"
      ]
     },
     "execution_count": 25,
     "metadata": {},
     "output_type": "execute_result"
    }
   ],
   "source": [
    "f_xx = sp.diff(f_x, x)\n",
    "f_xx"
   ]
  }
 ],
 "metadata": {
  "kernelspec": {
   "display_name": "Python 3 (ipykernel)",
   "language": "python",
   "name": "python3"
  },
  "language_info": {
   "codemirror_mode": {
    "name": "ipython",
    "version": 3
   },
   "file_extension": ".py",
   "mimetype": "text/x-python",
   "name": "python",
   "nbconvert_exporter": "python",
   "pygments_lexer": "ipython3",
   "version": "3.9.13"
  }
 },
 "nbformat": 4,
 "nbformat_minor": 5
}
