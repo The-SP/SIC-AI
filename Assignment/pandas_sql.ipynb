{
 "cells": [
  {
   "cell_type": "markdown",
   "metadata": {},
   "source": [
    "## Generative AI based Data Visualization\n",
    "\n",
    "1. Load some data in pandas\n",
    "2. User can ask questions in natural language form for visualization for same data from pandas\n",
    "3. Convert natural language into sql and use that sql to extract data from pandas.\n",
    "4. Based on data retrieved from pandas plot a chart/graph automatically."
   ]
  },
  {
   "cell_type": "code",
   "execution_count": 6,
   "metadata": {},
   "outputs": [],
   "source": [
    "import re\n",
    "\n",
    "def find_conditions(text):\n",
    "    # Regular expression pattern to find key-value pairs\n",
    "    pattern = re.compile(r\"(\\w+) is ([\\w\\s><=]+?)(?:,|and|\\.)\")\n",
    "\n",
    "    # Search for key-value pairs in the text\n",
    "    matches = pattern.findall(text)\n",
    "\n",
    "    # Create the dictionary based on extracted key-value pairs\n",
    "    result = {}\n",
    "    for key, value in matches:\n",
    "        result[key.lower()] = value\n",
    "\n",
    "    return result\n",
    "\n",
    "\n",
    "def dict_to_sql(table, input_dict):\n",
    "    sql_query = f'SELECT * FROM {table} WHERE '\n",
    "    conditions = []\n",
    "    for key, value in input_dict.items():\n",
    "        if any(op in value for op in ['>', '<', '=']):\n",
    "            conditions.append(f'{key} {value}')\n",
    "        else:\n",
    "            conditions.append(f\"{key} = '{value}'\")\n",
    "\n",
    "    sql_query += ' AND '.join(conditions)\n",
    "    return sql_query\n"
   ]
  },
  {
   "cell_type": "code",
   "execution_count": 7,
   "metadata": {},
   "outputs": [
    {
     "name": "stdout",
     "output_type": "stream",
     "text": [
      "text = Find employees whose department is IT and age is > 30.\n",
      "dict = {'department': 'IT ', 'age': '> 30'}\n",
      "sql = SELECT * FROM employee WHERE department = 'IT ' AND age > 30\n",
      "\n",
      "text = Find employees whose location is KTM and age is < 30.\n",
      "dict = {'location': 'KTM ', 'age': '< 30'}\n",
      "sql = SELECT * FROM employee WHERE location = 'KTM ' AND age < 30\n",
      "\n",
      "text = Find employees whose country is Nepal and age is 30.\n",
      "dict = {'country': 'Nepal ', 'age': '30'}\n",
      "sql = SELECT * FROM employee WHERE country = 'Nepal ' AND age = '30'\n",
      "\n",
      "text = Find employees whose company is IT and age is >= 30.\n",
      "dict = {'company': 'IT ', 'age': '>= 30'}\n",
      "sql = SELECT * FROM employee WHERE company = 'IT ' AND age >= 30\n",
      "\n"
     ]
    }
   ],
   "source": [
    "# Test the function with example input text\n",
    "input_texts = [\n",
    "    \"Find employees whose department is IT and age is > 30.\",\n",
    "    \"Find employees whose location is KTM and age is < 30.\",\n",
    "    \"Find employees whose country is Nepal and age is 30.\",\n",
    "    \"Find employees whose company is IT and age is >= 30.\",\n",
    "    ]\n",
    "\n",
    "for text in input_texts:\n",
    "    output_dict = find_conditions(text)\n",
    "    sql_query = dict_to_sql('employee', output_dict)\n",
    "    print('text =', text)\n",
    "    print('dict =', output_dict)\n",
    "    print('sql =', sql_query)\n",
    "    print()"
   ]
  },
  {
   "cell_type": "code",
   "execution_count": 8,
   "metadata": {},
   "outputs": [
    {
     "data": {
      "text/html": [
       "<div>\n",
       "<style scoped>\n",
       "    .dataframe tbody tr th:only-of-type {\n",
       "        vertical-align: middle;\n",
       "    }\n",
       "\n",
       "    .dataframe tbody tr th {\n",
       "        vertical-align: top;\n",
       "    }\n",
       "\n",
       "    .dataframe thead th {\n",
       "        text-align: right;\n",
       "    }\n",
       "</style>\n",
       "<table border=\"1\" class=\"dataframe\">\n",
       "  <thead>\n",
       "    <tr style=\"text-align: right;\">\n",
       "      <th></th>\n",
       "      <th>product</th>\n",
       "      <th>category</th>\n",
       "      <th>sales</th>\n",
       "    </tr>\n",
       "  </thead>\n",
       "  <tbody>\n",
       "    <tr>\n",
       "      <th>0</th>\n",
       "      <td>A</td>\n",
       "      <td>X</td>\n",
       "      <td>100</td>\n",
       "    </tr>\n",
       "    <tr>\n",
       "      <th>1</th>\n",
       "      <td>B</td>\n",
       "      <td>Y</td>\n",
       "      <td>150</td>\n",
       "    </tr>\n",
       "    <tr>\n",
       "      <th>2</th>\n",
       "      <td>C</td>\n",
       "      <td>X</td>\n",
       "      <td>200</td>\n",
       "    </tr>\n",
       "    <tr>\n",
       "      <th>3</th>\n",
       "      <td>D</td>\n",
       "      <td>Y</td>\n",
       "      <td>120</td>\n",
       "    </tr>\n",
       "    <tr>\n",
       "      <th>4</th>\n",
       "      <td>E</td>\n",
       "      <td>Z</td>\n",
       "      <td>180</td>\n",
       "    </tr>\n",
       "    <tr>\n",
       "      <th>5</th>\n",
       "      <td>F</td>\n",
       "      <td>Y</td>\n",
       "      <td>50</td>\n",
       "    </tr>\n",
       "  </tbody>\n",
       "</table>\n",
       "</div>"
      ],
      "text/plain": [
       "  product category  sales\n",
       "0       A        X    100\n",
       "1       B        Y    150\n",
       "2       C        X    200\n",
       "3       D        Y    120\n",
       "4       E        Z    180\n",
       "5       F        Y     50"
      ]
     },
     "execution_count": 8,
     "metadata": {},
     "output_type": "execute_result"
    }
   ],
   "source": [
    "import pandas as pd\n",
    "import pandasql as psql\n",
    "import matplotlib.pyplot as plt\n",
    "\n",
    "data = pd.DataFrame({\n",
    "    'product': ['A', 'B', 'C', 'D', 'E', 'F'],\n",
    "    'category': ['X', 'Y', 'X', 'Y', 'Z', 'Y'],\n",
    "    'sales': [100, 150, 200, 120, 180, 50]\n",
    "})\n",
    "data"
   ]
  },
  {
   "cell_type": "code",
   "execution_count": 9,
   "metadata": {},
   "outputs": [],
   "source": [
    "def execute_sql_query(sql_query, data):\n",
    "    result_df = psql.sqldf(sql_query, locals())\n",
    "    return result_df\n",
    "\n",
    "\n",
    "def plot_chart(data, x_column, y_column, chart_type='bar'):\n",
    "    plt.figure(figsize=(8, 6))\n",
    "\n",
    "    if chart_type == 'bar':\n",
    "        plt.bar(data[x_column], data[y_column])\n",
    "    elif chart_type == 'line':\n",
    "        plt.plot(data[x_column], data[y_column])\n",
    "\n",
    "    plt.xlabel(x_column)\n",
    "    plt.ylabel(y_column)\n",
    "    plt.title(f'{chart_type} chart of {y_column} against {x_column}')\n",
    "    plt.xticks(rotation=45)\n",
    "    plt.show()"
   ]
  },
  {
   "cell_type": "code",
   "execution_count": 11,
   "metadata": {},
   "outputs": [
    {
     "name": "stdout",
     "output_type": "stream",
     "text": [
      "Input text: Find products whose sales is > 100, category is Y.\n",
      "SQL Query: SELECT * FROM data WHERE sales > 100 AND category = 'Y'\n"
     ]
    },
    {
     "data": {
      "text/html": [
       "<div>\n",
       "<style scoped>\n",
       "    .dataframe tbody tr th:only-of-type {\n",
       "        vertical-align: middle;\n",
       "    }\n",
       "\n",
       "    .dataframe tbody tr th {\n",
       "        vertical-align: top;\n",
       "    }\n",
       "\n",
       "    .dataframe thead th {\n",
       "        text-align: right;\n",
       "    }\n",
       "</style>\n",
       "<table border=\"1\" class=\"dataframe\">\n",
       "  <thead>\n",
       "    <tr style=\"text-align: right;\">\n",
       "      <th></th>\n",
       "      <th>product</th>\n",
       "      <th>category</th>\n",
       "      <th>sales</th>\n",
       "    </tr>\n",
       "  </thead>\n",
       "  <tbody>\n",
       "    <tr>\n",
       "      <th>0</th>\n",
       "      <td>B</td>\n",
       "      <td>Y</td>\n",
       "      <td>150</td>\n",
       "    </tr>\n",
       "    <tr>\n",
       "      <th>1</th>\n",
       "      <td>D</td>\n",
       "      <td>Y</td>\n",
       "      <td>120</td>\n",
       "    </tr>\n",
       "  </tbody>\n",
       "</table>\n",
       "</div>"
      ],
      "text/plain": [
       "  product category  sales\n",
       "0       B        Y    150\n",
       "1       D        Y    120"
      ]
     },
     "metadata": {},
     "output_type": "display_data"
    },
    {
     "data": {
      "image/png": "[encoded data removed]",
      "text/plain": [
       "<Figure size 800x600 with 1 Axes>"
      ]
     },
     "metadata": {},
     "output_type": "display_data"
    }
   ],
   "source": [
    "nlp_text = 'Find products whose sales is > 100, category is Y.'\n",
    "\n",
    "try:\n",
    "    sql_query = dict_to_sql('data', find_conditions(nlp_text))\n",
    "    print('Input text:', nlp_text)\n",
    "    print('SQL Query:', sql_query)\n",
    "    result_df = execute_sql_query(sql_query, data)\n",
    "    display(result_df)\n",
    "\n",
    "    if not result_df.empty:\n",
    "        plot_chart(result_df, 'product', 'sales')\n",
    "\n",
    "except Exception as e:\n",
    "    print(f\"Error executing the SQL query: {e}\")"
   ]
  }
 ],
 "metadata": {
  "kernelspec": {
   "display_name": "Python 3 (ipykernel)",
   "language": "python",
   "name": "python3"
  },
  "language_info": {
   "codemirror_mode": {
    "name": "ipython",
    "version": 3
   },
   "file_extension": ".py",
   "mimetype": "text/x-python",
   "name": "python",
   "nbconvert_exporter": "python",
   "pygments_lexer": "ipython3",
   "version": "3.11.0"
  }
 },
 "nbformat": 4,
 "nbformat_minor": 2
}
