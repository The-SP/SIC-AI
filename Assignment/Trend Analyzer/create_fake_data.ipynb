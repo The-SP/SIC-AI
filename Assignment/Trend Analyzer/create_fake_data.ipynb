{
 "cells": [
  {
   "cell_type": "code",
   "execution_count": 2,
   "id": "8c9d8baf",
   "metadata": {},
   "outputs": [
    {
     "name": "stdout",
     "output_type": "stream",
     "text": [
      "Dataset generated successfully!\n"
     ]
    }
   ],
   "source": [
    "import random\n",
    "import datetime\n",
    "\n",
    "# Define the keywords\n",
    "keywords = [\n",
    "    \"iPhone 12 Pro\",\n",
    "    \"Samsung Galaxy S21\",\n",
    "    \"Sony PlayStation 5\",\n",
    "    \"Apple AirPods Pro\",\n",
    "    \"Nintendo Switch\",\n",
    "    \"Amazon Echo Dot\",\n",
    "    \"Fitbit Charge 4\",\n",
    "    \"DJI Mavic Air 2\",\n",
    "    \"GoPro Hero 9\",\n",
    "    \"Bose QuietComfort 35 II\",\n",
    "    \"HP Pavilion Laptop\",\n",
    "    \"Canon EOS R5\",\n",
    "    \"Microsoft Surface Pro 7\",\n",
    "    \"LG OLED TV\",\n",
    "    \"Sonos One\",\n",
    "    \"Anker PowerCore Portable Charger\",\n",
    "    \"Nespresso Vertuo Coffee Machine\",\n",
    "    \"Razer Blade Gaming Laptop\",\n",
    "    \"iRobot Roomba Vacuum\",\n",
    "    \"KitchenAid Stand Mixer\",\n",
    "    \"Samsung QLED TV\",\n",
    "    \"Sony WH-1000XM4 Headphones\",\n",
    "    \"Garmin Forerunner 945\",\n",
    "    \"Xbox Series X\",\n",
    "    \"Google Pixel 5\",\n",
    "    \"Fitbit Versa 3\",\n",
    "    \"Amazon Kindle Paperwhite\",\n",
    "    \"Dyson V11 Vacuum\",\n",
    "    \"Apple Watch Series 6\",\n",
    "    \"LG UltraWide Monitor\"\n",
    "]\n",
    "\n",
    "\n",
    "# Generate random data\n",
    "dataset = []\n",
    "start_date = datetime.date(2023, 6, 1)\n",
    "end_date = datetime.date(2023, 6, 30)\n",
    "delta = end_date - start_date\n",
    "\n",
    "for i in range(delta.days + 1):\n",
    "    date = start_date + datetime.timedelta(days=i)\n",
    "    keyword_counts = [date.strftime(\"%Y-%m-%d\")]\n",
    "    for keyword in keywords:\n",
    "        count = random.randint(0, 100)  # Generate a random count for each keyword\n",
    "        keyword_counts.append(str(count))\n",
    "    dataset.append(keyword_counts)\n",
    "\n",
    "# Write data to a file\n",
    "with open(\"trend_dataset.csv\", \"w\") as file:\n",
    "    file.write(\"Date,\" + \",\".join(keywords) + \"\\n\")\n",
    "    for data in dataset:\n",
    "        file.write(\",\".join(data) + \"\\n\")\n",
    "\n",
    "print(\"Dataset generated successfully!\")"
   ]
  }
 ],
 "metadata": {
  "kernelspec": {
   "display_name": "Python 3 (ipykernel)",
   "language": "python",
   "name": "python3"
  },
  "language_info": {
   "codemirror_mode": {
    "name": "ipython",
    "version": 3
   },
   "file_extension": ".py",
   "mimetype": "text/x-python",
   "name": "python",
   "nbconvert_exporter": "python",
   "pygments_lexer": "ipython3",
   "version": "3.11.0"
  }
 },
 "nbformat": 4,
 "nbformat_minor": 5
}
